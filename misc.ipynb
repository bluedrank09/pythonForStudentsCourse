{
 "cells": [
  {
   "cell_type": "code",
   "execution_count": 1,
   "metadata": {},
   "outputs": [
    {
     "name": "stdout",
     "output_type": "stream",
     "text": [
      ":D\n"
     ]
    }
   ],
   "source": [
    "print(f\":D\")"
   ]
  },
  {
   "cell_type": "code",
   "execution_count": 4,
   "metadata": {},
   "outputs": [
    {
     "data": {
      "text/plain": [
       "0.16666666666666666"
      ]
     },
     "execution_count": 4,
     "metadata": {},
     "output_type": "execute_result"
    }
   ],
   "source": [
    "1/2/3"
   ]
  },
  {
   "cell_type": "code",
   "execution_count": 5,
   "metadata": {},
   "outputs": [
    {
     "data": {
      "text/plain": [
       "2.0"
      ]
     },
     "execution_count": 5,
     "metadata": {},
     "output_type": "execute_result"
    }
   ],
   "source": [
    "4/2"
   ]
  },
  {
   "cell_type": "code",
   "execution_count": 6,
   "metadata": {},
   "outputs": [
    {
     "data": {
      "text/plain": [
       "1"
      ]
     },
     "execution_count": 6,
     "metadata": {},
     "output_type": "execute_result"
    }
   ],
   "source": [
    "3^2"
   ]
  },
  {
   "cell_type": "code",
   "execution_count": 7,
   "metadata": {},
   "outputs": [
    {
     "data": {
      "text/plain": [
       "9"
      ]
     },
     "execution_count": 7,
     "metadata": {},
     "output_type": "execute_result"
    }
   ],
   "source": [
    "3**2"
   ]
  },
  {
   "cell_type": "code",
   "execution_count": 9,
   "metadata": {},
   "outputs": [
    {
     "data": {
      "text/plain": [
       "5"
      ]
     },
     "execution_count": 9,
     "metadata": {},
     "output_type": "execute_result"
    }
   ],
   "source": [
    "16//3"
   ]
  },
  {
   "cell_type": "code",
   "execution_count": 10,
   "metadata": {},
   "outputs": [
    {
     "data": {
      "text/plain": [
       "15.0"
      ]
     },
     "execution_count": 10,
     "metadata": {},
     "output_type": "execute_result"
    }
   ],
   "source": [
    "#all the different ways to make 15 challenge\n",
    "15/1\n",
    "60/4\n",
    "5*3\n",
    "1*15"
   ]
  },
  {
   "cell_type": "code",
   "execution_count": 12,
   "metadata": {},
   "outputs": [
    {
     "name": "stdout",
     "output_type": "stream",
     "text": [
      "9\n",
      "19683\n",
      "16\n",
      "5\n",
      "6\n"
     ]
    }
   ],
   "source": [
    "#using and trying exponents challenge\n",
    "print(3**2)\n",
    "print(3**9)\n",
    "print(4**2)\n",
    "#floor divide self challenge\n",
    "print(16//3)\n",
    "print(20//3)\n"
   ]
  },
  {
   "cell_type": "code",
   "execution_count": 17,
   "metadata": {},
   "outputs": [
    {
     "name": "stdout",
     "output_type": "stream",
     "text": [
      "Those things have no walls on them !\n",
      "Those things have no walls on them ! \n",
      "Those things\n",
      "have no\n",
      "walls on them ! \n",
      "THOSE THINGS HAVE NO WALLS ON THEM ! \n",
      "those things have no walls on them ! \n",
      "Those Things Have No Walls On Them ! \n"
     ]
    }
   ],
   "source": [
    "#string practise\n",
    "print(\"Those things have no walls on them !\")\n",
    "print('Those things have no walls on them ! ')\n",
    "print('''Those things\n",
    "have no\n",
    "walls on them ! ''')\n",
    "print('Those things have no walls on them ! '.upper())\n",
    "print('Those things have no walls on them ! '.lower())\n",
    "print('Those things have no walls on them ! '.title())"
   ]
  },
  {
   "cell_type": "code",
   "execution_count": 20,
   "metadata": {},
   "outputs": [
    {
     "name": "stdout",
     "output_type": "stream",
     "text": [
      "Sheldon\n",
      "My favourite character in TBBT is Sheldon.\n"
     ]
    }
   ],
   "source": [
    "#variable practise\n",
    "name = 'Sheldon'\n",
    "print(name)\n",
    "\n",
    "print(f\"My favourite character in TBBT is {name}.\")"
   ]
  },
  {
   "cell_type": "markdown",
   "metadata": {},
   "source": []
  },
  {
   "cell_type": "code",
   "execution_count": 24,
   "metadata": {},
   "outputs": [
    {
     "name": "stdout",
     "output_type": "stream",
     "text": [
      "My name is MAYA and I am 15 years old.\n"
     ]
    }
   ],
   "source": [
    "name = 'Maya'\n",
    "age = 15\n",
    "\n",
    "print(f\"My name is {name.upper()} and I am {age} years old.\")"
   ]
  },
  {
   "cell_type": "code",
   "execution_count": 31,
   "metadata": {},
   "outputs": [
    {
     "name": "stdout",
     "output_type": "stream",
     "text": [
      "My favourite character in The Big Bang Theory is Sheldon.\n",
      "81\n"
     ]
    }
   ],
   "source": [
    "def favouriteCharacter(characterName, showName):\n",
    "    print(f\"My favourite character in {showName} is {characterName}.\")\n",
    "\n",
    "favouriteCharacter('Sheldon', 'The Big Bang Theory')\n",
    "\n",
    "def squareNumber(number):\n",
    "    newNumber = 9**2\n",
    "    return(newNumber)\n",
    "\n",
    "print(squareNumber(9))  \n",
    "\n",
    "    "
   ]
  },
  {
   "cell_type": "code",
   "execution_count": 32,
   "metadata": {},
   "outputs": [
    {
     "data": {
      "text/plain": [
       "18"
      ]
     },
     "execution_count": 32,
     "metadata": {},
     "output_type": "execute_result"
    }
   ],
   "source": [
    "def timesTwo(number):\n",
    "    newNumber = number*2\n",
    "    return(newNumber)\n",
    "\n",
    "timesTwo(9)"
   ]
  },
  {
   "cell_type": "code",
   "execution_count": 33,
   "metadata": {},
   "outputs": [
    {
     "name": "stdout",
     "output_type": "stream",
     "text": [
      "In The Big Bang Theory, Rajesh Koothrapali is 35 years old.\n"
     ]
    }
   ],
   "source": [
    "def nameAndAge(name, age):\n",
    "    print(f\"In The Big Bang Theory, {name} is {age} years old.\")\n",
    "\n",
    "nameAndAge('Rajesh Koothrapali', 35)"
   ]
  },
  {
   "cell_type": "code",
   "execution_count": 50,
   "metadata": {},
   "outputs": [
    {
     "name": "stdout",
     "output_type": "stream",
     "text": [
      "Character is Sheldon age is 27\n",
      "Amy is 30 years old.\n",
      "7\n",
      "7\n",
      "['Sheldon', 'Penny', 'Leonard', 'Howard', 'Raj', 'Bernadette', 'Amy', 'Stuart']\n",
      "['Barry', 'Sheldon', 'Penny', 'Leonard', 'Howard', 'Raj', 'Bernadette', 'Amy', 'Stuart']\n",
      "['Sheldon', 'Penny', 'Leonard', 'Howard', 'Raj', 'Bernadette', 'Amy', 'Stuart']\n",
      "[27, 33, 27, 41, 28, 29]\n",
      "['Sheldon', 'Penny', 'Leonard', 'Howard', 'Raj', 'Bernadette', 'Amy']\n",
      "Sheldon is 27 years old.\n"
     ]
    }
   ],
   "source": [
    "characters = ['Sheldon', 'Penny', 'Leonard', 'Howard', 'Raj', 'Bernadette', 'Amy']\n",
    "ages = [27, 33, 27, 41, 28, 29, 30]\n",
    "\n",
    "print(f\"Character is {characters[0]} age is {ages[0]}\")\n",
    "print(f\"{characters[-1]} is {ages[-1]} years old.\")\n",
    "print(f\"{len(characters)}\")\n",
    "print(f\"{len(ages)}\")\n",
    "\n",
    "characters.append('Stuart')\n",
    "print(characters)\n",
    "\n",
    "characters.insert(0, 'Barry')\n",
    "print(characters)\n",
    "\n",
    "del characters[0]\n",
    "print(characters)\n",
    "\n",
    "ages.pop()\n",
    "print(ages)\n",
    "\n",
    "characters.remove(\"Stuart\")\n",
    "print(characters)\n",
    "\n",
    "print(f\"{characters[0]} is {ages[0]} years old.\")"
   ]
  },
  {
   "cell_type": "code",
   "execution_count": 52,
   "metadata": {},
   "outputs": [
    {
     "name": "stdout",
     "output_type": "stream",
     "text": [
      "['Sheldon', 'Penny', 'Leonard', 'Howard', 'Raj', 'Bernadette', 'Amy']\n",
      "The character name is Sheldon\n",
      "The character name is Penny\n",
      "The character name is Leonard\n",
      "The character name is Howard\n",
      "The character name is Raj\n",
      "The character name is Bernadette\n",
      "The character name is Amy\n"
     ]
    }
   ],
   "source": [
    "characters = ['Sheldon', 'Penny', 'Leonard', 'Howard', 'Raj', 'Bernadette', 'Amy']\n",
    "print(f\"{characters}\")\n",
    "\n",
    "for name in characters:\n",
    "    info = (f\"The character name is {name}\")\n",
    "    print(info)\n"
   ]
  },
  {
   "cell_type": "code",
   "execution_count": 57,
   "metadata": {},
   "outputs": [
    {
     "name": "stdout",
     "output_type": "stream",
     "text": [
      "[1, 4, 9]\n"
     ]
    }
   ],
   "source": [
    "numbers = [1, 2, 3]\n",
    "squareNumbers = []\n",
    "\n",
    "for number in numbers:\n",
    "    squareNumbers.append(number**2)\n",
    "    \n",
    "print(squareNumbers)"
   ]
  },
  {
   "cell_type": "code",
   "execution_count": 63,
   "metadata": {},
   "outputs": [
    {
     "name": "stdout",
     "output_type": "stream",
     "text": [
      "2\n",
      "4\n",
      "6\n",
      "8\n",
      "10\n",
      "[1, 2, 3, 4, 5, 6, 7, 8, 9, 10]\n"
     ]
    }
   ],
   "source": [
    "numbers = range(1,11)\n",
    "\n",
    "for item in numbers : \n",
    "    if item%2 == 0:\n",
    "        print(item)\n",
    "\n",
    "print(list(range(1,11)))"
   ]
  },
  {
   "cell_type": "code",
   "execution_count": 69,
   "metadata": {},
   "outputs": [
    {
     "name": "stdout",
     "output_type": "stream",
     "text": [
      "[1, 2, 3, 4, 5, 6, 7, 8, 9, 10]\n",
      "[6, 7, 8, 9, 10]\n",
      "False\n",
      "False\n",
      "True\n",
      "True\n",
      "False\n"
     ]
    }
   ],
   "source": [
    "numbers = list(range(1,11))\n",
    "print(numbers)\n",
    "greaterThanFive = []\n",
    "\n",
    "for item in numbers :\n",
    "    if item>5:\n",
    "        greaterThanFive.append(item)\n",
    "\n",
    "print(greaterThanFive)\n",
    "\n",
    "print(3<2)\n",
    "print(1>4)\n",
    "print(5>3)\n",
    "print(7==7)\n",
    "\n",
    "a = 4\n",
    "b = 6\n",
    "print(a == b)\n",
    "        "
   ]
  },
  {
   "cell_type": "code",
   "execution_count": 77,
   "metadata": {},
   "outputs": [
    {
     "name": "stdout",
     "output_type": "stream",
     "text": [
      "Sheldon is 27\n",
      "Penny is 33\n",
      "Leonard is 27\n",
      "Howard is 41\n",
      "Raj is 30\n",
      "Bernadette is 29\n",
      "Amy is 30\n"
     ]
    }
   ],
   "source": [
    "characters = ['Sheldon', 'Penny', 'Leonard', 'Howard', 'Raj', 'Bernadette', 'Amy']\n",
    "#ages = [27, 33, 27, 41, 28, 29, 30]\n",
    "\n",
    "for name in characters : \n",
    "\n",
    "    if name == 'Sheldon':\n",
    "        print(f\"{name} is 27\")\n",
    "    elif name == 'Penny' :\n",
    "        print(f\"{name} is 33\")\n",
    "    elif name == 'Leonard' :\n",
    "        print(f\"{name} is 27\")\n",
    "    elif name == 'Howard' :\n",
    "        print(f\"{name} is 41\")\n",
    "    elif name == 'Rajesh' :\n",
    "        print(f\"{name} is 28\")\n",
    "    elif name == 'Bernadette' :\n",
    "        print(f\"{name} is 29\")\n",
    "    else:\n",
    "        print(f'{name} is 30')\n"
   ]
  },
  {
   "cell_type": "code",
   "execution_count": 98,
   "metadata": {},
   "outputs": [
    {
     "name": "stdout",
     "output_type": "stream",
     "text": [
      "Name of character is Penny and he is 27\n"
     ]
    }
   ],
   "source": [
    "import random\n",
    "\n",
    "characters = ['Sheldon', 'Penny', 'Leonard', 'Howard', 'Raj', 'Bernadette', 'Amy']\n",
    "ages = [27, 33, 27, 41, 28, 29, 30]\n",
    "\n",
    "\n",
    "def combineInfo(name, age):\n",
    "    if name == 'Sheldon':\n",
    "        return(f\"Name of character is Sheldon and he is 27\")\n",
    "    else :\n",
    "        return(f\"Name of character is {name} and he is {age}\")\n",
    "\n",
    "\n",
    "indexCharacter = random.randint(0,6)\n",
    "ageIndex = random.randint(0,6)\n",
    "print(combineInfo(characters[indexCharacter], ages[ageIndex]))\n",
    "    "
   ]
  },
  {
   "cell_type": "code",
   "execution_count": 1,
   "metadata": {},
   "outputs": [],
   "source": [
    "import turtle\n",
    "screen = turtle.Screen()\n",
    "screen.bgcolor('red')\n",
    "screen.title(\"Drawing a line for practice\")\n",
    "\n",
    "myTurtle = turtle.Turtle()\n",
    "#myTurtle.pensize(5)\n",
    "myTurtle.shape(\"turtle\")\n",
    "#myTurtle.forward(100)\n",
    "\n",
    "for x in range(0,8):\n",
    "    myTurtle.forward(100)\n",
    "    myTurtle.backward(100)\n",
    "    myTurtle.left(45)\n",
    "\n",
    "myTurtle.hideturtle()\n",
    "turtle.done()\n"
   ]
  },
  {
   "cell_type": "code",
   "execution_count": 1,
   "metadata": {},
   "outputs": [],
   "source": [
    "import turtle\n",
    "screen = turtle.Screen()\n",
    "screen.bgcolor('blue')\n",
    "screen.title(\"Drawing a circle for practice\")\n",
    "myTurtle = turtle.Turtle()\n",
    "myTurtle.fillcolor('red')\n",
    "myTurtle.begin_fill()\n",
    "myTurtle.circle(100)\n",
    "myTurtle.end_fill()\n",
    "\n",
    "turtle.done()"
   ]
  },
  {
   "cell_type": "code",
   "execution_count": null,
   "metadata": {},
   "outputs": [],
   "source": []
  }
 ],
 "metadata": {
  "interpreter": {
   "hash": "aee8b7b246df8f9039afb4144a1f6fd8d2ca17a180786b69acc140d282b71a49"
  },
  "kernelspec": {
   "display_name": "Python 3.10.2 64-bit",
   "language": "python",
   "name": "python3"
  },
  "language_info": {
   "codemirror_mode": {
    "name": "ipython",
    "version": 3
   },
   "file_extension": ".py",
   "mimetype": "text/x-python",
   "name": "python",
   "nbconvert_exporter": "python",
   "pygments_lexer": "ipython3",
   "version": "3.10.2"
  },
  "orig_nbformat": 4
 },
 "nbformat": 4,
 "nbformat_minor": 2
}
