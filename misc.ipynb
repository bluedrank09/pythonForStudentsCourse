{
 "cells": [
  {
   "cell_type": "code",
   "execution_count": 1,
   "metadata": {},
   "outputs": [
    {
     "name": "stdout",
     "output_type": "stream",
     "text": [
      ":D\n"
     ]
    }
   ],
   "source": [
    "print(f\":D\")"
   ]
  },
  {
   "cell_type": "code",
   "execution_count": 4,
   "metadata": {},
   "outputs": [
    {
     "data": {
      "text/plain": [
       "0.16666666666666666"
      ]
     },
     "execution_count": 4,
     "metadata": {},
     "output_type": "execute_result"
    }
   ],
   "source": [
    "1/2/3"
   ]
  },
  {
   "cell_type": "code",
   "execution_count": 5,
   "metadata": {},
   "outputs": [
    {
     "data": {
      "text/plain": [
       "2.0"
      ]
     },
     "execution_count": 5,
     "metadata": {},
     "output_type": "execute_result"
    }
   ],
   "source": [
    "4/2"
   ]
  },
  {
   "cell_type": "code",
   "execution_count": 6,
   "metadata": {},
   "outputs": [
    {
     "data": {
      "text/plain": [
       "1"
      ]
     },
     "execution_count": 6,
     "metadata": {},
     "output_type": "execute_result"
    }
   ],
   "source": [
    "3^2"
   ]
  },
  {
   "cell_type": "code",
   "execution_count": 7,
   "metadata": {},
   "outputs": [
    {
     "data": {
      "text/plain": [
       "9"
      ]
     },
     "execution_count": 7,
     "metadata": {},
     "output_type": "execute_result"
    }
   ],
   "source": [
    "3**2"
   ]
  },
  {
   "cell_type": "code",
   "execution_count": 9,
   "metadata": {},
   "outputs": [
    {
     "data": {
      "text/plain": [
       "5"
      ]
     },
     "execution_count": 9,
     "metadata": {},
     "output_type": "execute_result"
    }
   ],
   "source": [
    "16//3"
   ]
  },
  {
   "cell_type": "code",
   "execution_count": 10,
   "metadata": {},
   "outputs": [
    {
     "data": {
      "text/plain": [
       "15.0"
      ]
     },
     "execution_count": 10,
     "metadata": {},
     "output_type": "execute_result"
    }
   ],
   "source": [
    "#all the different ways to make 15 challenge\n",
    "15/1\n",
    "60/4\n",
    "5*3\n",
    "1*15"
   ]
  },
  {
   "cell_type": "code",
   "execution_count": 12,
   "metadata": {},
   "outputs": [
    {
     "name": "stdout",
     "output_type": "stream",
     "text": [
      "9\n",
      "19683\n",
      "16\n",
      "5\n",
      "6\n"
     ]
    }
   ],
   "source": [
    "#using and trying exponents challenge\n",
    "print(3**2)\n",
    "print(3**9)\n",
    "print(4**2)\n",
    "#floor divide self challenge\n",
    "print(16//3)\n",
    "print(20//3)\n"
   ]
  },
  {
   "cell_type": "code",
   "execution_count": 17,
   "metadata": {},
   "outputs": [
    {
     "name": "stdout",
     "output_type": "stream",
     "text": [
      "Those things have no walls on them !\n",
      "Those things have no walls on them ! \n",
      "Those things\n",
      "have no\n",
      "walls on them ! \n",
      "THOSE THINGS HAVE NO WALLS ON THEM ! \n",
      "those things have no walls on them ! \n",
      "Those Things Have No Walls On Them ! \n"
     ]
    }
   ],
   "source": [
    "#string practise\n",
    "print(\"Those things have no walls on them !\")\n",
    "print('Those things have no walls on them ! ')\n",
    "print('''Those things\n",
    "have no\n",
    "walls on them ! ''')\n",
    "print('Those things have no walls on them ! '.upper())\n",
    "print('Those things have no walls on them ! '.lower())\n",
    "print('Those things have no walls on them ! '.title())"
   ]
  },
  {
   "cell_type": "code",
   "execution_count": 20,
   "metadata": {},
   "outputs": [
    {
     "name": "stdout",
     "output_type": "stream",
     "text": [
      "Sheldon\n",
      "My favourite character in TBBT is Sheldon.\n"
     ]
    }
   ],
   "source": [
    "#variable practise\n",
    "name = 'Sheldon'\n",
    "print(name)\n",
    "\n",
    "print(f\"My favourite character in TBBT is {name}.\")"
   ]
  },
  {
   "cell_type": "markdown",
   "metadata": {},
   "source": []
  },
  {
   "cell_type": "code",
   "execution_count": 24,
   "metadata": {},
   "outputs": [
    {
     "name": "stdout",
     "output_type": "stream",
     "text": [
      "My name is MAYA and I am 15 years old.\n"
     ]
    }
   ],
   "source": [
    "name = 'Maya'\n",
    "age = 15\n",
    "\n",
    "print(f\"My name is {name.upper()} and I am {age} years old.\")"
   ]
  },
  {
   "cell_type": "code",
   "execution_count": 31,
   "metadata": {},
   "outputs": [
    {
     "name": "stdout",
     "output_type": "stream",
     "text": [
      "My favourite character in The Big Bang Theory is Sheldon.\n",
      "81\n"
     ]
    }
   ],
   "source": [
    "def favouriteCharacter(characterName, showName):\n",
    "    print(f\"My favourite character in {showName} is {characterName}.\")\n",
    "\n",
    "favouriteCharacter('Sheldon', 'The Big Bang Theory')\n",
    "\n",
    "def squareNumber(number):\n",
    "    newNumber = 9**2\n",
    "    return(newNumber)\n",
    "\n",
    "print(squareNumber(9))  \n",
    "\n",
    "    "
   ]
  },
  {
   "cell_type": "code",
   "execution_count": 32,
   "metadata": {},
   "outputs": [
    {
     "data": {
      "text/plain": [
       "18"
      ]
     },
     "execution_count": 32,
     "metadata": {},
     "output_type": "execute_result"
    }
   ],
   "source": [
    "def timesTwo(number):\n",
    "    newNumber = number*2\n",
    "    return(newNumber)\n",
    "\n",
    "timesTwo(9)"
   ]
  },
  {
   "cell_type": "code",
   "execution_count": null,
   "metadata": {},
   "outputs": [],
   "source": [
    "def nameAndAge(name, age):\n",
    "    print(f\"In The Big Bang Theory, {name} is {age} years old.\")\n",
    "\n",
    "nameAndAge('Rajesh Koothrapali', 35)"
   ]
  }
 ],
 "metadata": {
  "interpreter": {
   "hash": "aee8b7b246df8f9039afb4144a1f6fd8d2ca17a180786b69acc140d282b71a49"
  },
  "kernelspec": {
   "display_name": "Python 3.10.2 64-bit",
   "language": "python",
   "name": "python3"
  },
  "language_info": {
   "codemirror_mode": {
    "name": "ipython",
    "version": 3
   },
   "file_extension": ".py",
   "mimetype": "text/x-python",
   "name": "python",
   "nbconvert_exporter": "python",
   "pygments_lexer": "ipython3",
   "version": "3.10.2"
  },
  "orig_nbformat": 4
 },
 "nbformat": 4,
 "nbformat_minor": 2
}
